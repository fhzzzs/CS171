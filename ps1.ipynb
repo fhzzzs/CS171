{
 "cells": [
  {
   "cell_type": "markdown",
   "metadata": {},
   "source": [
    "# CS 171 PS 1\n",
    "# Due: Friday, January 26, 2024 @ 11:59pm"
   ]
  },
  {
   "cell_type": "markdown",
   "metadata": {},
   "source": [
    "## Read *all* cells carefully and answer all parts (both text and missing code)"
   ]
  },
  {
   "cell_type": "markdown",
   "metadata": {},
   "source": [
    "### Enter your information below:\n",
    "\n",
    "<div style=\"color: #000000;background-color: #EEEEFF\">\n",
    "    Your Name (submitter):  Ivan Ao<br>\n",
    "    Your student ID (submitter): 862330140\n",
    "    \n",
    "<b>By submitting this notebook, I assert that the work below is my own work, completed for this course.  Except where explicitly cited, none of the portions of this notebook are duplicated from anyone else's work or my own previous work.</b>\n",
    "</div>\n"
   ]
  },
  {
   "cell_type": "markdown",
   "metadata": {},
   "source": [
    "<div class=\"alert alert-success\">\n",
    "    <font size=+2>Total Problem Set Grading</font> (to be completed by grader)<br>\n",
    "    Total Points: /20<br>\n",
    "    Late Days Used on this Assignment: <br>\n",
    "    Total Late Days Used: <br>\n",
    "</div>"
   ]
  },
  {
   "cell_type": "markdown",
   "metadata": {},
   "source": [
    "## Overview\n",
    "\n",
    "This problem set deals with IMDB review data (from [here](https://ai.stanford.edu/~amaas/data/sentiment/)).  This dataset consists of reviews with either bad (<=4) or good (>=7) ratings.  The cells below load in training and testing data.  For each point, there are 1000 features, corresponding to the 1000 most common words in the reviews.  Each feature's value is either \"none,\" \"once,\" \"couple,\" \"few,\" \"many,\" or \"lots\" indicating qualitatively how often the word appears in the review.  These values are encoded as integers from 0 to 5, with 0 indicating \"none\" and 5 indicating \"lots.\"  These are categorical features.  The corresponding y values are 0 for a \"bad\" rating and 1 for a \"good\" rating."
   ]
  },
  {
   "cell_type": "code",
   "execution_count": 1,
   "metadata": {},
   "outputs": [],
   "source": [
    "## THESE ARE THE ONLY LIBRARIES YOU MAY IMPORT!!\n",
    "import numpy as np\n",
    "import matplotlib.pyplot as plt\n",
    "\n",
    "# below line just to make figures larger\n",
    "plt.rcParams[\"figure.figsize\"] = (20,10)"
   ]
  },
  {
   "cell_type": "code",
   "execution_count": 2,
   "metadata": {},
   "outputs": [],
   "source": [
    "def loaddata(fname):\n",
    "    # ignore how this works! (I'm manipulating a dataset to match the needs for this problem set)\n",
    "    M = np.loadtxt(fname,dtype=float)\n",
    "    rs = np.random.RandomState(seed=8675309)\n",
    "    np.random.shuffle(M)\n",
    "    bi = np.where(M[:,0]==-1)[0]\n",
    "    gi = np.where(M[:,0]==1)[0]\n",
    "    M = M[np.hstack((gi,bi[:-4166])),:]\n",
    "    np.random.shuffle(M)\n",
    "    X = M[:,1:]\n",
    "    threshs = [0,1,2,5,10,20,1024]\n",
    "    for (i,(t1,t2)) in enumerate(zip(threshs[:-1],threshs[1:])):\n",
    "        X[(X>t1) & (X<=t2)] = i\n",
    "    Y = M[:,0]\n",
    "    Y[Y<=0] = 0 # data is originally +1, -1\n",
    "    return (X,Y)"
   ]
  },
  {
   "cell_type": "code",
   "execution_count": 3,
   "metadata": {},
   "outputs": [],
   "source": [
    "(trainX,trainY) = loaddata('/usr/local/cs171/imdbtrain.txt')\n",
    "(testX,testY) = loaddata('/usr/local/cs171/imdbtest.txt')"
   ]
  },
  {
   "cell_type": "markdown",
   "metadata": {},
   "source": [
    "<div style=\"color: #000000;background-color: #FFFFEE\"><font size=+2>Question 1:</font> <font size=+1>(4 points)</font></div>\n",
    "<div class=\"alert alert-success\">\n",
    "    <font size=+1>Grading</font> (to be completed by grader)<br>\n",
    "    Score: /4<br>\n",
    "</div>"
   ]
  },
  {
   "attachments": {
    "e0562b46-3345-413e-b498-20d0baedce3c.png": {
     "image/png": "[encoded data removed]"
    }
   },
   "cell_type": "markdown",
   "metadata": {},
   "source": [
    "<div style=\"color: #000000;background-color: #FFFFEE\">\n",
    "In the cell below, plot a grid of histograms (5 columns, 5 rows)\n",
    "Each histogram should be the distribution of a different feature (so you will be plotting just the first 25 features).  The histograms should have two sets of bars (each in their own color): ones for examples from class 0 and one for examples from class 1.  You want side-by-side histograms, each with 6 bars (for 12 bars in two colors). Be sure to give a title to each plot with the feature number.  Use only the training data for these histograms.\n",
    "    \n",
    "Hint: look up pyplot's [subplot](https://matplotlib.org/3.1.1/api/_as_gen/matplotlib.pyplot.subplot.html) and [hist](https://matplotlib.org/3.1.1/api/_as_gen/matplotlib.pyplot.hist.html) functions\n",
    "    \n",
    "As an example, the histogram in the upper left, corresponding to feature 0, should look like\n",
    "    \n",
    "![histo1.png](attachment:e0562b46-3345-413e-b498-20d0baedce3c.png)\n",
    "</div>"
   ]
  },
  {
   "cell_type": "code",
   "execution_count": 4,
   "metadata": {},
   "outputs": [
    {
     "data": {
      "text/plain": [
       "array([[3., 1., 1., ..., 0., 0., 0.],\n",
       "       [5., 4., 3., ..., 0., 0., 0.],\n",
       "       [2., 1., 2., ..., 0., 0., 0.],\n",
       "       ...,\n",
       "       [3., 2., 2., ..., 0., 0., 0.],\n",
       "       [3., 1., 0., ..., 0., 0., 0.],\n",
       "       [3., 2., 2., ..., 0., 0., 0.]])"
      ]
     },
     "execution_count": 4,
     "metadata": {},
     "output_type": "execute_result"
    }
   ],
   "source": [
    "trainX"
   ]
  },
  {
   "cell_type": "code",
   "execution_count": 5,
   "metadata": {},
   "outputs": [
    {
     "data": {
      "text/plain": [
       "(20834, 1000)"
      ]
     },
     "execution_count": 5,
     "metadata": {},
     "output_type": "execute_result"
    }
   ],
   "source": [
    "trainX.shape"
   ]
  },
  {
   "cell_type": "code",
   "execution_count": 6,
   "metadata": {},
   "outputs": [
    {
     "data": {
      "text/plain": [
       "(20834,)"
      ]
     },
     "execution_count": 6,
     "metadata": {},
     "output_type": "execute_result"
    }
   ],
   "source": [
    "trainY.shape"
   ]
  },
  {
   "cell_type": "code",
   "execution_count": 7,
   "metadata": {},
   "outputs": [],
   "source": [
    "X = trainX[:, :25]"
   ]
  },
  {
   "cell_type": "code",
   "execution_count": 8,
   "metadata": {},
   "outputs": [],
   "source": [
    "X_good = X[trainY == 1].T\n",
    "X_bad = X[trainY == 0].T"
   ]
  },
  {
   "cell_type": "code",
   "execution_count": 9,
   "metadata": {},
   "outputs": [
    {
     "data": {
      "text/plain": [
       "array([[5., 2., 4., ..., 5., 3., 3.],\n",
       "       [4., 1., 2., ..., 4., 2., 2.],\n",
       "       [3., 2., 2., ..., 4., 2., 2.],\n",
       "       ...,\n",
       "       [0., 0., 0., ..., 0., 0., 0.],\n",
       "       [0., 1., 0., ..., 0., 0., 2.],\n",
       "       [2., 0., 0., ..., 0., 1., 0.]])"
      ]
     },
     "execution_count": 9,
     "metadata": {},
     "output_type": "execute_result"
    }
   ],
   "source": [
    "X_good"
   ]
  },
  {
   "cell_type": "code",
   "execution_count": 10,
   "metadata": {},
   "outputs": [
    {
     "data": {
      "text/plain": [
       "(25, 12500)"
      ]
     },
     "execution_count": 10,
     "metadata": {},
     "output_type": "execute_result"
    }
   ],
   "source": [
    "X_good.shape"
   ]
  },
  {
   "cell_type": "code",
   "execution_count": 11,
   "metadata": {},
   "outputs": [
    {
     "data": {
      "text/plain": [
       "(25, 8334)"
      ]
     },
     "execution_count": 11,
     "metadata": {},
     "output_type": "execute_result"
    }
   ],
   "source": [
    "X_bad.shape"
   ]
  },
  {
   "cell_type": "code",
   "execution_count": 12,
   "metadata": {},
   "outputs": [
    {
     "data": {
      "image/png": "[encoded data removed]",
      "text/plain": [
       "<Figure size 1440x720 with 25 Axes>"
      ]
     },
     "metadata": {
      "needs_background": "light"
     },
     "output_type": "display_data"
    }
   ],
   "source": [
    "xlab = (\"none\", \"once\",\"couple\",\"few\",\"many\",\"lots\")\n",
    "x = np.arange(len(xlab))\n",
    "bins = np.arange(len(xlab) + 1) - 0.5\n",
    "fig, axes = plt.subplots(nrows = 5, ncols = 5, figsize = (20,10))\n",
    "\n",
    "for i, ax in enumerate(axes.flat, start = 0):\n",
    "    ax.set_title('feature {}'.format(i))\n",
    "    ax.hist([X_bad[i], X_good[i]], density = True, bins = bins, label = [\"bad\", \"good\"])\n",
    "    ax.legend(loc='upper left')\n",
    "    ax.set_xticks(x)\n",
    "    ax.set_xticklabels(xlab)\n",
    "\n",
    "plt.tight_layout()\n",
    "plt.show()"
   ]
  },
  {
   "cell_type": "code",
   "execution_count": null,
   "metadata": {},
   "outputs": [],
   "source": []
  },
  {
   "cell_type": "markdown",
   "metadata": {},
   "source": [
    "<div style=\"color: #000000;background-color: #FFFFEE\">\n",
    "    <font size=+2>Question 2:</font> <font size=+1>(4 points)</font>\n",
    "   </div>\n",
    "   <div class=\"alert alert-success\">\n",
    "    <font size=+1>Grading</font> (to be completed by grader)<br>\n",
    "    Score: /4<br>\n",
    "</div>"
   ]
  },
  {
   "cell_type": "markdown",
   "metadata": {},
   "source": [
    "<div style=\"color: #000000;background-color: #FFFFEE\">\n",
    "    \n",
    "For the 25 features above, based on the histograms you plotted, which would the most helpful three features for classifying this dataset using naive Bayes?  Which would be the least helpful feature?  <b>WHY?</b>\n",
    "</div>\n",
    "    "
   ]
  },
  {
   "cell_type": "markdown",
   "metadata": {},
   "source": [
    "### Your Answer Here\n",
    "I think feature 0, 1 and 4  are the most helpful three features for classifying this dataset using naive Bayes, because each feature between good and bad are higher than others, it's easier for us to find the different.\n",
    "\n",
    "The least helpful will be feature 18, 20, 22. because the difference between good and bad are little.\n"
   ]
  },
  {
   "cell_type": "markdown",
   "metadata": {},
   "source": [
    "<div style=\"color: #000000;background-color: #FFFFEE\">\n",
    "    <font size=+2>Question 3:</font> <font size=+1>(10 points)</font>\n",
    "   </div>\n",
    "   <div class=\"alert alert-success\">\n",
    "    <font size=+1>Grading</font> (to be completed by grader)<br>\n",
    "    Score: /10<br>\n",
    "</div>"
   ]
  },
  {
   "cell_type": "markdown",
   "metadata": {},
   "source": [
    "<div style=\"color: #000000;background-color: #FFFFEE\">\n",
    "        \n",
    "Complete the two functions in the two cells below.\n",
    "\n",
    "The first trains/learns a naive Bayes classifier.  The second predicts the classes for a set of examples based on the model learned.\n",
    "    \n",
    "Hint:  Test your code on the example from the slides in class.  You'll need to generate the data matrix yourself and your own testing examples.\n",
    "    \n",
    "Hint 2: You will have to deal with counts that are 0.  Leaving them as zero will result in 0 probabilities that will cause problems.  A standard way to handle this is to add 1 to all counts (this is often called LaPlace smoothing).  For frequent feature values, it does not change things much.  For infrequent values, it keeps them away from 0 and admits that they might happen more often than was seen in the data.  This is like pretending there are extra examples that cause the raw counts to increase by 1.  \n",
    "</div>"
   ]
  },
  {
   "cell_type": "code",
   "execution_count": 13,
   "metadata": {},
   "outputs": [],
   "source": [
    "def learnnb(X,Y):\n",
    "    # X is shape (m,n) (m data points, each with n features).  It has integer values from 0 to maxfeatval (inclusive)\n",
    "    # Y is shape (m,) (m data points).  It has values of either 0 or 1 (class \"0\" or class \"1\")\n",
    "    maxfeatval = X.max().max()\n",
    "\n",
    "    \n",
    "    # this function is to return a pair (priorp,condp)\n",
    "    # where priorp is of shape (2,) and has the prior probability of each of the two classes\n",
    "    #  and  condp is of shape (n,maxfeatval+1,2) and has the conditional probabilities for the naive Bayes classifier\n",
    "    ## YOUR CODE HERE\n",
    "    maxfeatval = np.intc(maxfeatval)\n",
    "    m, n = X.shape\n",
    "\n",
    "    priorp = [np.sum(Y ==0) / m, np.sum(Y == 1) / m]\n",
    "\n",
    "    condp = np.ones((n ,maxfeatval + 1, 2))\n",
    "\n",
    "    # type is the review type, 1 for good, 0 for bad\n",
    "    for type in range(2):\n",
    "        X_review = X[Y == type]\n",
    "        for feature in range(n):\n",
    "            for value in range(maxfeatval):\n",
    "                # count \n",
    "                condp[feature,value,type] += np.sum(X_review[:,feature] == value)\n",
    "            # divide by total of that type\n",
    "            condp[feature, :, type] /= (np.sum(Y == type) + maxfeatval + 1)\n",
    "\n",
    "    return priorp, condp\n",
    "    # return (priorp,condp)  ## or whatever they are named in your code"
   ]
  },
  {
   "cell_type": "code",
   "execution_count": 14,
   "metadata": {},
   "outputs": [],
   "source": [
    "def prednb(X,model):\n",
    "    # X is of shape (m,n) (m data points, each with n features).\n",
    "    # model is the pair (priorp,condp), as returned from learnnb\n",
    "    # should return something of shape (m,) which is an array of 0s and 1s, indicating\n",
    "    # the predicted (most probable under NB) class for each of the examples in X\n",
    "    (priorp,condp) = model\n",
    "\n",
    "    ## YOUR CODE HERE\n",
    "\n",
    "    m, n = X.shape\n",
    "    \n",
    "    maxfeatval = condp.shape[1] - 1\n",
    "    # create a list with all 0s\n",
    "    predictions = np.zeros(m)\n",
    "\n",
    "    for i in range(m):\n",
    "        # set for the prob.\n",
    "        # i can also change it to log prob to reduce the calculation. log(ab) = log a + log b. \n",
    "        # Make the calculation easier using addition instead of multiplication.\n",
    "        prob_0 = priorp[0]\n",
    "        prob_1 = priorp[1]\n",
    "        \n",
    "        for feature in range(n):\n",
    "            value = np.intc(X[i,feature])\n",
    "            prob_0 *= condp[feature, value, 0]\n",
    "            prob_1 *= condp[feature, value, 1]\n",
    "            \n",
    "        if(prob_0 > prob_1):\n",
    "            predictions[i] = 0\n",
    "        else:\n",
    "            predictions[i] = 1\n",
    "\n",
    "    return predictions\n",
    "    "
   ]
  },
  {
   "cell_type": "markdown",
   "metadata": {},
   "source": [
    "<div style=\"color: #000000;background-color: #FFFFEE\">\n",
    "The code below trains a naive Bayes classifier and then tests it on the testing examples and reports the error rate.\n",
    "    \n",
    "Run the code.  [note, just because your code runs on this example, does not mean it is correct.]\n",
    "    \n",
    "Then answer the question, \"<b>Is this error rate good?  How do you know?</b>\"\n",
    "</div>\n"
   ]
  },
  {
   "cell_type": "code",
   "execution_count": 18,
   "metadata": {},
   "outputs": [
    {
     "name": "stdout",
     "output_type": "stream",
     "text": [
      "0.3333333333333333\n"
     ]
    }
   ],
   "source": [
    "# first value is yes 1 no 0  , second value 0 sunny, 1 cloudy, 2 raining, third value  yes 1, no 0.\n",
    "\n",
    "setX = [[0,0,0],\n",
    "       [0,0,1],\n",
    "       [0,1,1],\n",
    "       [1,0,0],\n",
    "       [0,2,0],\n",
    "       [0,2,1],\n",
    "       [1,1,1],\n",
    "       [0,0,0],\n",
    "       [1,0,0],\n",
    "       [0,1,0]]\n",
    "setX = np.array(setX)\n",
    "# 1 for 113, 0 for 75\n",
    "setY = [1,1,0,1,1,0,0,1,0,1]\n",
    "setY = np.array(setY)\n",
    "\n",
    "xtrain = setX[0:7]\n",
    "ytrain = setY[0:7]\n",
    "xtest = setX[7:]\n",
    "ytest = setY[7:]\n",
    "\n",
    "\n",
    "model = learnnb(xtrain,ytrain)\n",
    "ypred = prednb(xtest,model)\n",
    "print(errorrate(ypred,ytest))\n",
    "\n"
   ]
  },
  {
   "cell_type": "code",
   "execution_count": 17,
   "metadata": {},
   "outputs": [
    {
     "name": "stdout",
     "output_type": "stream",
     "text": [
      "0.26643947393683404\n"
     ]
    }
   ],
   "source": [
    "def errorrate(predY,trueY):\n",
    "    if len(predY.shape)>1:\n",
    "        predY = predY[:,0]\n",
    "    if len(trueY.shape)>1:\n",
    "        trueY = trueY[:,0]\n",
    "    return (predY!=trueY).mean()\n",
    "\n",
    "model = learnnb(trainX,trainY)\n",
    "predY = prednb(testX,model)\n",
    "print(errorrate(predY,testY))"
   ]
  },
  {
   "cell_type": "markdown",
   "metadata": {},
   "source": [
    "### YOUR ANSWER HERE\n",
    "\n",
    "This error rate is not good because 1/4 answer is wrong and it is unacceptable consider how many review will be label wrong if we have lots of review. for the class example, the error rate is 0.3 and it's also really high.\n"
   ]
  }
 ],
 "metadata": {
  "kernelspec": {
   "display_name": "CS 171",
   "language": "python",
   "name": "cs171"
  },
  "language_info": {
   "codemirror_mode": {
    "name": "ipython",
    "version": 3
   },
   "file_extension": ".py",
   "mimetype": "text/x-python",
   "name": "python",
   "nbconvert_exporter": "python",
   "pygments_lexer": "ipython3",
   "version": "3.9.7"
  }
 },
 "nbformat": 4,
 "nbformat_minor": 4
}
